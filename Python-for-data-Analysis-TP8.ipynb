{
 "metadata": {
  "language_info": {
   "codemirror_mode": {
    "name": "ipython",
    "version": 3
   },
   "file_extension": ".py",
   "mimetype": "text/x-python",
   "name": "python",
   "nbconvert_exporter": "python",
   "pygments_lexer": "ipython3",
   "version": "3.8.3-final"
  },
  "orig_nbformat": 2,
  "kernelspec": {
   "name": "python3",
   "display_name": "Python 3",
   "language": "python"
  }
 },
 "nbformat": 4,
 "nbformat_minor": 2,
 "cells": [
  {
   "source": [
    "# TP8 Python for Data Analysis :  Python assignements, DL\n",
    "\n",
    "\n",
    "\n"
   ],
   "cell_type": "markdown",
   "metadata": {}
  },
  {
   "source": [
    "## FAKENEWS DETECTION\n",
    "\n",
    "solution (https://data-flair.training/blogs/advanced-python-project-detecting-fake-news/)\n",
    "\n",
    "réponse d'un élève : https://github.com/thomasduv/RealLvsFakeNewsTP7_PythonDA/blob/main/TP7.ipynb"
   ],
   "cell_type": "markdown",
   "metadata": {}
  },
  {
   "source": [
    "## Python assignements\n",
    "## X = Y , when Y is a mutable\n",
    "\n",
    "suite à la question de simon IBO1 au sujet de la premiere cellule de ce notebook:\n",
    "https://github.com/robderon/Python-for-data-analysis-DEPRECATED/blob/master/cours%20romain%20jouin/esilv_TP5_scikit_learn_part_1_base_internautes.ipynb"
   ],
   "cell_type": "markdown",
   "metadata": {}
  },
  {
   "cell_type": "code",
   "execution_count": 5,
   "metadata": {},
   "outputs": [
    {
     "output_type": "stream",
     "name": "stdout",
     "text": [
      "ici\n"
     ]
    },
    {
     "output_type": "execute_result",
     "data": {
      "text/plain": [
       "[1, 3, 4, 4]"
      ]
     },
     "metadata": {},
     "execution_count": 5
    }
   ],
   "source": [
    "liste=[1,2,3,4]\n",
    "for j in [liste]:\n",
    "    j[1]=3\n",
    "    print(\"ici\")\n",
    "liste[2]=4\n",
    "j"
   ]
  },
  {
   "cell_type": "code",
   "execution_count": 6,
   "metadata": {},
   "outputs": [
    {
     "output_type": "execute_result",
     "data": {
      "text/plain": [
       "[1, 3, 4, 4]"
      ]
     },
     "metadata": {},
     "execution_count": 6
    }
   ],
   "source": [
    "liste=[1,2,3,4]\n",
    "j=liste\n",
    "j[1]=3\n",
    "liste[2]=4\n",
    "j"
   ]
  },
  {
   "cell_type": "code",
   "execution_count": 4,
   "metadata": {},
   "outputs": [
    {
     "output_type": "execute_result",
     "data": {
      "text/plain": [
       "[[1, 3, 4, 4]]"
      ]
     },
     "metadata": {},
     "execution_count": 4
    }
   ],
   "source": [
    "# [liste] is in array containing only one item : the liste array\n",
    "[liste]"
   ]
  },
  {
   "cell_type": "code",
   "execution_count": 7,
   "metadata": {},
   "outputs": [
    {
     "output_type": "execute_result",
     "data": {
      "text/plain": [
       "[1, 3, 4, 4]"
      ]
     },
     "metadata": {},
     "execution_count": 7
    }
   ],
   "source": [
    "# for j in [liste]:\n",
    "# since [liste] contains only one item, liste will be assigned to j, and the for loop will run only once.\n",
    "# it is the same thing than writing\n",
    "# j=liste\n",
    "\n",
    "liste=[1,2,3,4]\n",
    "j=liste\n",
    "j[1]=3\n",
    "liste[2]=4\n",
    "j\n"
   ]
  },
  {
   "cell_type": "code",
   "execution_count": 8,
   "metadata": {},
   "outputs": [
    {
     "output_type": "execute_result",
     "data": {
      "text/plain": [
       "[23, 3, 4, 4]"
      ]
     },
     "metadata": {},
     "execution_count": 8
    }
   ],
   "source": [
    "# j and liste are both linked to the same object in memory\n",
    "# when i modify list, I modify the object in memory, so j is also modified :\n",
    "liste[0]=23\n",
    "j\n"
   ]
  },
  {
   "cell_type": "code",
   "execution_count": 9,
   "metadata": {},
   "outputs": [
    {
     "output_type": "execute_result",
     "data": {
      "text/plain": [
       "['python', 3, 4, 4]"
      ]
     },
     "metadata": {},
     "execution_count": 9
    }
   ],
   "source": [
    "a=j\n",
    "a[0]=\"python\"\n",
    "liste"
   ]
  },
  {
   "cell_type": "code",
   "execution_count": 13,
   "metadata": {},
   "outputs": [
    {
     "output_type": "execute_result",
     "data": {
      "text/plain": [
       "1500606819456"
      ]
     },
     "metadata": {},
     "execution_count": 13
    }
   ],
   "source": [
    "#id(variable) is a native python function which gives the address of the variable in memory.\n",
    "id(a)"
   ]
  },
  {
   "cell_type": "code",
   "execution_count": 14,
   "metadata": {},
   "outputs": [
    {
     "output_type": "execute_result",
     "data": {
      "text/plain": [
       "1500606819456"
      ]
     },
     "metadata": {},
     "execution_count": 14
    }
   ],
   "source": [
    "id(liste)"
   ]
  },
  {
   "cell_type": "code",
   "execution_count": 15,
   "metadata": {},
   "outputs": [
    {
     "output_type": "execute_result",
     "data": {
      "text/plain": [
       "1500606819456"
      ]
     },
     "metadata": {},
     "execution_count": 15
    }
   ],
   "source": [
    "id(j)"
   ]
  },
  {
   "cell_type": "code",
   "execution_count": null,
   "metadata": {},
   "outputs": [],
   "source": [
    "# We can see that our 3 variables point to the same address in memory"
   ]
  },
  {
   "source": [
    "When i assign a variable to another variable, Python does not create a new object in memory, but will just link the new variable name to the same object. So when I modify liste, I also modify j. and the same with a. at the end, the 3 variables point to the same location in memory.\n",
    "\n",
    "Python doc : \"Assignment statements in Python do not copy objects, they create bindings between a target and an object.\" \"Assignment statements where the right hand side is a simple expression creates independent copies every time.\"\n",
    "\n",
    "https://medium.com/broken-window/many-names-one-memory-address-122f78734cb6\n",
    "\n",
    "https://towardsdatascience.com/assignment-shallow-or-deep-a-story-about-pythons-memory-management-b8fad87bfa6c"
   ],
   "cell_type": "markdown",
   "metadata": {}
  },
  {
   "source": [
    "\n",
    "## cours DL\n",
    "\n",
    "\n",
    "cours DL kaggle : \n",
    "https://www.kaggle.com/learn/intro-to-deep-learning\n",
    "\n",
    "\n",
    "Tuto Keras using MNIST dataset ( same dataset as Romain Jouin Notebook) :\n",
    "https://www.tensorflow.org/tutorials/keras/classification\n",
    "\n",
    "\n",
    "Romain Jouin notebook : \n",
    "https://github.com/robderon/ESILV_Python_for_data_analysis/blob/main/cours%20romain%20jouin/esilv_tp_6_deep_learning_mnist_fashion_dataset.ipynb\n",
    "\n"
   ],
   "cell_type": "markdown",
   "metadata": {}
  },
  {
   "cell_type": "code",
   "execution_count": null,
   "metadata": {},
   "outputs": [],
   "source": []
  }
 ]
}